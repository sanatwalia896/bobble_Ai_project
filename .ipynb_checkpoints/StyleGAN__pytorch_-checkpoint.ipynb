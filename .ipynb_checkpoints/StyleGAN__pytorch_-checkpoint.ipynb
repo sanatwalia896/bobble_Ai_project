{
 "cells": [
  {
   "cell_type": "code",
   "execution_count": 1,
   "metadata": {
    "colab": {
     "base_uri": "https://localhost:8080/"
    },
    "id": "3nqYO671r7x9",
    "outputId": "5f31fd73-ba83-46ec-cce9-7822bee3730a"
   },
   "outputs": [
    {
     "name": "stdout",
     "output_type": "stream",
     "text": [
      "/bin/bash: -c: line 1: syntax error near unexpected token `\"/content/drive\"'\n",
      "/bin/bash: -c: line 1: `drive.mount (\"/content/drive\")'\n"
     ]
    }
   ],
   "source": [
    "from google.colab import drive\n",
    "!drive.mount (\"/content/drive\")\n",
    "cd"
   ]
  },
  {
   "cell_type": "code",
   "execution_count": 2,
   "metadata": {
    "colab": {
     "base_uri": "https://localhost:8080/"
    },
    "id": "pMBt2xLmsUL5",
    "outputId": "49514772-9d7f-4beb-85ab-860b9c938411"
   },
   "outputs": [
    {
     "name": "stdout",
     "output_type": "stream",
     "text": [
      "Cloning into 'stylegan2-ada-pytorch'...\n",
      "remote: Enumerating objects: 131, done.\u001b[K\n",
      "remote: Counting objects: 100% (3/3), done.\u001b[K\n",
      "remote: Compressing objects: 100% (3/3), done.\u001b[K\n",
      "remote: Total 131 (delta 0), reused 1 (delta 0), pack-reused 128\u001b[K\n",
      "Receiving objects: 100% (131/131), 1.13 MiB | 7.88 MiB/s, done.\n",
      "Resolving deltas: 100% (57/57), done.\n"
     ]
    }
   ],
   "source": [
    "!git clone https://github.com/NVlabs/stylegan2-ada-pytorch"
   ]
  },
  {
   "cell_type": "code",
   "execution_count": 4,
   "metadata": {
    "colab": {
     "base_uri": "https://localhost:8080/"
    },
    "id": "NYfpLPFjstY4",
    "outputId": "b9a43d21-3ad8-4cf0-c572-df11c6ad6236"
   },
   "outputs": [
    {
     "name": "stdout",
     "output_type": "stream",
     "text": [
      "GPU 0: Tesla T4 (UUID: GPU-96018a28-0d83-dc34-f7e1-1d6eb49f7dba)\n"
     ]
    }
   ],
   "source": [
    "!nvidia-smi -L"
   ]
  },
  {
   "cell_type": "code",
   "execution_count": null,
   "metadata": {
    "id": "2SwbczsHszUU"
   },
   "outputs": [],
   "source": [
    "\n",
    "import os\n",
    "!pip install gdown --upgrade\n",
    "\n",
    "if os.path.isdir(\"/content/drive/MyDrive/colab-sg2-ada-pytorch\"):\n",
    "    %cd \"/content/drive/MyDrive/colab-sg2-ada-pytorch/stylegan2-ada-pytorch\"\n",
    "elif os.path.isdir(\"/content/drive/\"):\n",
    "    #install script\n",
    "    %cd \"/content/drive/MyDrive/\"\n",
    "    !mkdir colab-sg2-ada-pytorch\n",
    "    %cd colab-sg2-ada-pytorch\n",
    "    !git clone https://github.com/dvschultz/stylegan2-ada-pytorch\n",
    "    %cd stylegan2-ada-pytorch\n",
    "    !mkdir downloads\n",
    "    !mkdir datasets\n",
    "    !mkdir pretrained\n",
    "    !gdown --id 1-5xZkD8ajXw1DdopTkH_rAoCsD72LhKU -O /content/drive/MyDrive/colab-sg2-ada-pytorch/stylegan2-ada-pytorch/pretrained/wikiart.pkl\n",
    "else:\n",
    "    !git clone https://github.com/dvschultz/stylegan2-ada-pytorch\n",
    "    %cd stylegan2-ada-pytorch\n",
    "    !mkdir downloads\n",
    "    !mkdir datasets\n",
    "    !mkdir pretrained\n",
    "    %cd pretrained\n",
    "    !gdown --id 1-5xZkD8ajXw1DdopTkH_rAoCsD72LhKU\n",
    "    %cd ../"
   ]
  },
  {
   "cell_type": "code",
   "execution_count": null,
   "metadata": {
    "id": "eCcCNflez7Tb"
   },
   "outputs": [],
   "source": [
    "#Uninstall new JAX\n",
    "!pip uninstall jax jaxlib -y\n",
    "#GPU frontend\n",
    "!pip install \"jax[cuda11_cudnn805]==0.3.10\" -f https://storage.googleapis.com/jax-releases/jax_cuda_releases.html\n",
    "#CPU frontend\n",
    "#!pip install jax[cpu]==0.3.10\n",
    "#Downgrade Pytorch\n",
    "!pip uninstall torch torchvision -y\n",
    "!pip install torch==1.9.0+cu111 torchvision==0.10.0+cu111 -f https://download.pytorch.org/whl/torch_stable.html\n",
    "!pip install timm==0.4.12 ftfy==6.1.1 ninja==1.10.2 opensimplex"
   ]
  },
  {
   "cell_type": "code",
   "execution_count": null,
   "metadata": {
    "id": "xlZRnw-80AFW"
   },
   "outputs": [],
   "source": [
    "%cd \"/content/drive/My Drive/colab-sg2-ada-pytorch/stylegan2-ada-pytorch\"\n",
    "!git config --global user.name \"test\"\n",
    "!git config --global user.email \"test@test.com\"\n",
    "!git fetch origin\n",
    "!git pull\n",
    "!git stash\n",
    "!git checkout origin/main -- train.py generate.py legacy.py closed_form_factorization.py flesh_digression.py apply_factor.py README.md calc_metrics.py training/stylegan2_multi.py training/training_loop.py util/utilgan.py"
   ]
  },
  {
   "cell_type": "code",
   "execution_count": null,
   "metadata": {
    "id": "YDr0pmbm0AB_"
   },
   "outputs": [],
   "source": [
    "#required: definitely edit these!\n",
    "dataset_path = '' # this path contains the data set path\n",
    "resume_from = './pretrained/wikiart.pkl' # This is the pretrained stylegan2 model on the resolution tpe of dataset that you have\n",
    "aug_strength = 0.0\n",
    "train_count = 0\n",
    "mirror_x = True\n",
    "#mirror_y = False\n",
    "\n",
    "#optional: you might not need to edit these\n",
    "gamma_value = 50.0\n",
    "augs = 'bg'\n",
    "config = '11gb-gpu'\n",
    "snapshot_count = 4"
   ]
  },
  {
   "cell_type": "code",
   "execution_count": null,
   "metadata": {
    "id": "83IfjOO8z_5Y"
   },
   "outputs": [],
   "source": []
  },
  {
   "cell_type": "code",
   "execution_count": null,
   "metadata": {
    "id": "sBoFxiOkz_2y"
   },
   "outputs": [],
   "source": []
  },
  {
   "cell_type": "code",
   "execution_count": null,
   "metadata": {
    "id": "78oSEzDFz_0M"
   },
   "outputs": [],
   "source": []
  },
  {
   "cell_type": "code",
   "execution_count": null,
   "metadata": {
    "id": "85O3rKfkz_uc"
   },
   "outputs": [],
   "source": []
  },
  {
   "cell_type": "code",
   "execution_count": null,
   "metadata": {
    "id": "at2sI42yz_r1"
   },
   "outputs": [],
   "source": []
  },
  {
   "cell_type": "code",
   "execution_count": null,
   "metadata": {
    "id": "NBG4qj9Qz_o-"
   },
   "outputs": [],
   "source": []
  },
  {
   "cell_type": "code",
   "execution_count": null,
   "metadata": {
    "id": "V-B71CQ0z_lk"
   },
   "outputs": [],
   "source": []
  },
  {
   "cell_type": "code",
   "execution_count": null,
   "metadata": {
    "id": "RGW6PsKrz_hb"
   },
   "outputs": [],
   "source": []
  }
 ],
 "metadata": {
  "accelerator": "GPU",
  "colab": {
   "gpuType": "T4",
   "provenance": []
  },
  "kernelspec": {
   "display_name": "Python 3 (ipykernel)",
   "language": "python",
   "name": "python3"
  },
  "language_info": {
   "codemirror_mode": {
    "name": "ipython",
    "version": 3
   },
   "file_extension": ".py",
   "mimetype": "text/x-python",
   "name": "python",
   "nbconvert_exporter": "python",
   "pygments_lexer": "ipython3",
   "version": "3.11.5"
  }
 },
 "nbformat": 4,
 "nbformat_minor": 1
}
